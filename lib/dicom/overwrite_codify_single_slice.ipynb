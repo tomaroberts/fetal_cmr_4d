{
 "cells": [
  {
   "cell_type": "markdown",
   "metadata": {},
   "source": [
    "# Replace Single Slice of GTFlow Data with FCMR Data"
   ]
  },
  {
   "cell_type": "code",
   "execution_count": 1,
   "metadata": {},
   "outputs": [
    {
     "name": "stderr",
     "output_type": "stream",
     "text": [
      "C:\\Users\\tr17\\AppData\\Local\\Continuum\\anaconda3\\lib\\site-packages\\h5py\\__init__.py:36: FutureWarning: Conversion of the second argument of issubdtype from `float` to `np.floating` is deprecated. In future, it will be treated as `np.float64 == np.dtype(float).type`.\n",
      "  from ._conv import register_converters as _register_converters\n"
     ]
    }
   ],
   "source": [
    "import os\n",
    "import numpy as np\n",
    "import numpy.matlib\n",
    "import nibabel as nib\n",
    "import matplotlib\n",
    "import matplotlib.pyplot as plt\n",
    "\n",
    "from __future__ import unicode_literals  # Only for python2.7 and save_as unicode filename\n",
    "import pydicom\n",
    "from pydicom.dataset import Dataset, FileDataset, FileMetaDataset\n",
    "from pydicom.sequence import Sequence\n",
    "\n",
    "outputDir = r'E:\\Users\\tr17\\Documents\\Projects\\PC_Fetal_CMR\\Data\\dicom_fcmr_4d\\dcm'\n",
    "outputFilename = r'\\single_slice_dcm.dcm'"
   ]
  },
  {
   "cell_type": "markdown",
   "metadata": {},
   "source": [
    "# Codify Dump of Single DICOM"
   ]
  },
  {
   "cell_type": "code",
   "execution_count": 2,
   "metadata": {},
   "outputs": [],
   "source": [
    "# Coded version of DICOM file 'E:\\Users\\tr17\\Documents\\Projects\\PC_Fetal_CMR\\Data\\dicom_fcmr_4d\\GTflow_Aorta\\10000000\\10000001\\10000464\\100005A3'\n",
    "# Produced by pydicom codify utility script\n",
    "from __future__ import unicode_literals  # Only for python2.7 and save_as unicode filename\n",
    "import pydicom\n",
    "from pydicom.dataset import Dataset\n",
    "from pydicom.sequence import Sequence\n",
    "\n",
    "# File meta info data elements\n",
    "file_meta = Dataset()\n",
    "file_meta.FileMetaInformationGroupLength = 194\n",
    "file_meta.FileMetaInformationVersion = b'\\x00\\x01'\n",
    "file_meta.MediaStorageSOPClassUID = '1.2.840.10008.5.1.4.1.1.4'\n",
    "file_meta.MediaStorageSOPInstanceUID = '1.2.40.0.13.1.75591523476291404472265359935487530723'\n",
    "file_meta.TransferSyntaxUID = '1.2.840.10008.1.2'\n",
    "file_meta.ImplementationClassUID = '1.2.276.0.7230010.3.0.3.6.1'\n",
    "file_meta.ImplementationVersionName = 'OFFIS_DCMTK_361'\n",
    "\n",
    "# Main data elements\n",
    "ds = Dataset()\n",
    "ds.SpecificCharacterSet = 'ISO_IR 100'\n",
    "ds.ImageType = ['ORIGINAL', 'PRIMARY', 'M_FFE', 'M', 'FFE']\n",
    "ds.InstanceCreationDate = '20120821'\n",
    "ds.InstanceCreationTime = '221700'\n",
    "ds.InstanceCreatorUID = '1.2.40.0.13.1.203399489339977079628124438700844270739'\n",
    "ds.SOPClassUID = '1.2.840.10008.5.1.4.1.1.4'\n",
    "ds.SOPInstanceUID = '1.2.40.0.13.1.75591523476291404472265359935487530723'\n",
    "ds.StudyDate = '20120821'\n",
    "ds.SeriesDate = '20120821'\n",
    "ds.AcquisitionDate = '20120821'\n",
    "ds.ContentDate = '20120821'\n",
    "ds.StudyTime = '173207'\n",
    "ds.SeriesTime = '182511.32000'\n",
    "ds.AcquisitionTime = '182511.32'\n",
    "ds.ContentTime = '182511.32'\n",
    "ds.AccessionNumber = ''\n",
    "ds.Modality = 'MR'\n",
    "ds.Manufacturer = 'Philips Medical Systems'\n",
    "ds.CodeValue = ''\n",
    "ds.CodingSchemeDesignator = 'DCM'\n",
    "ds.CodeMeaning = ''\n",
    "\n",
    "# Procedure Code Sequence\n",
    "procedure_code_sequence = Sequence()\n",
    "ds.ProcedureCodeSequence = procedure_code_sequence\n",
    "\n",
    "# Procedure Code Sequence: Procedure Code 1\n",
    "procedure_code1 = Dataset()\n",
    "procedure_code1.CodeValue = 'RA.MRAAOT'\n",
    "procedure_code1.CodingSchemeDesignator = '99ORBIS'\n",
    "procedure_code1.CodeMeaning = 'CE-MRA Aorta thorakal'\n",
    "procedure_code1.ContextGroupExtensionFlag = 'N'\n",
    "procedure_code_sequence.append(procedure_code1)\n",
    "\n",
    "ds.OperatorsName = ''\n",
    "ds.AdmittingDiagnosesDescription = ''\n",
    "ds.ManufacturerModelName = '*'\n",
    "\n",
    "# Referenced Performed Procedure Step Sequence\n",
    "refd_performed_procedure_step_sequence = Sequence()\n",
    "ds.ReferencedPerformedProcedureStepSequence = refd_performed_procedure_step_sequence\n",
    "\n",
    "# Referenced Performed Procedure Step Sequence: Referenced Performed Procedure Step 1\n",
    "refd_performed_procedure_step1 = Dataset()\n",
    "refd_performed_procedure_step1.InstanceCreationDate = '20120821'\n",
    "refd_performed_procedure_step1.InstanceCreationTime = '221424'\n",
    "refd_performed_procedure_step1.InstanceCreatorUID = '1.2.40.0.13.1.203399489339977079628124438700844270739'\n",
    "refd_performed_procedure_step1.ReferencedSOPClassUID = '1.2.840.10008.3.1.2.3.3'\n",
    "refd_performed_procedure_step1.ReferencedSOPInstanceUID = '1.3.46.670589.11.17204.5.0.6524.2012082117320696006'\n",
    "refd_performed_procedure_step1.InstanceNumber = \"0\"\n",
    "refd_performed_procedure_step_sequence.append(refd_performed_procedure_step1)\n",
    "\n",
    "\n",
    "# Referenced Image Sequence\n",
    "refd_image_sequence = Sequence()\n",
    "ds.ReferencedImageSequence = refd_image_sequence\n",
    "\n",
    "# Referenced Image Sequence: Referenced Image 1\n",
    "refd_image1 = Dataset()\n",
    "refd_image1.ReferencedSOPClassUID = '1.2.840.10008.5.1.4.1.1.4'\n",
    "refd_image1.ReferencedSOPInstanceUID = '1.2.40.0.13.1.89078282904346598403696206113943676723'\n",
    "refd_image_sequence.append(refd_image1)\n",
    "\n",
    "# Referenced Image Sequence: Referenced Image 2\n",
    "refd_image2 = Dataset()\n",
    "refd_image2.ReferencedSOPClassUID = '1.2.840.10008.5.1.4.1.1.4'\n",
    "refd_image2.ReferencedSOPInstanceUID = '1.2.40.0.13.1.295129673873169057216869911833080985343'\n",
    "refd_image_sequence.append(refd_image2)\n",
    "\n",
    "# Referenced Image Sequence: Referenced Image 3\n",
    "refd_image3 = Dataset()\n",
    "refd_image3.ReferencedSOPClassUID = '1.2.840.10008.5.1.4.1.1.4'\n",
    "refd_image3.ReferencedSOPInstanceUID = '1.2.40.0.13.1.37560432539838529536104187971339317428'\n",
    "refd_image_sequence.append(refd_image3)\n",
    "\n",
    "ds.PatientName = '-*-'\n",
    "ds.PatientID = '*'\n",
    "ds.IssuerOfPatientID = ''\n",
    "ds.PatientBirthDate = ''\n",
    "ds.OtherPatientIDs = ''\n",
    "ds.OtherPatientNames = '*'\n",
    "ds.PatientMotherBirthName = '*'\n",
    "ds.PregnancyStatus = 4\n",
    "ds.ScanningSequence = 'GR'\n",
    "ds.SequenceVariant = 'SP'\n",
    "ds.ScanOptions = 'FC'\n",
    "ds.MRAcquisitionType = '3D'\n",
    "ds.SequenceName = ''\n",
    "ds.SliceThickness = \"2.6\"\n",
    "ds.RepetitionTime = \"3.58299994468688\"\n",
    "ds.EchoTime = \"2.288\"\n",
    "ds.NumberOfAverages = \"1\"\n",
    "ds.ImagingFrequency = \"127.768401\"\n",
    "ds.ImagedNucleus = '1H'\n",
    "ds.EchoNumbers = \"1\"\n",
    "ds.MagneticFieldStrength = \"3\"\n",
    "ds.SpacingBetweenSlices = \"2.6\"\n",
    "ds.NumberOfPhaseEncodingSteps = \"143\"\n",
    "ds.EchoTrainLength = \"3\"\n",
    "ds.PercentSampling = \"98.4375\"\n",
    "ds.PercentPhaseFieldOfView = \"86.4864871376439\"\n",
    "ds.PixelBandwidth = \"3284\"\n",
    "ds.SoftwareVersions = ['3.2.1', '3.2.1.0']\n",
    "ds.ProtocolName = 'WIP Aorta M SENSE'\n",
    "ds.TriggerTime = \"622\"\n",
    "ds.LowRRValue = \"632\"\n",
    "ds.HighRRValue = \"733\"\n",
    "ds.IntervalsAcquired = \"1132\"\n",
    "ds.IntervalsRejected = \"20\"\n",
    "ds.HeartRate = \"87\"\n",
    "ds.ReconstructionDiameter = \"379.999992370605\"\n",
    "ds.ReceiveCoilName = 'SENSE-XL-Torso'\n",
    "ds.TransmitCoilName = 'B'\n",
    "ds.AcquisitionMatrix = [0, 148, 143, 0]\n",
    "ds.InPlanePhaseEncodingDirection = 'ROW'\n",
    "ds.FlipAngle = \"12\"\n",
    "ds.SAR = \"0.60249835252761\"\n",
    "ds.dBdt = \"56.7453983579957\"\n",
    "ds.PatientPosition = 'HFS'\n",
    "ds.AcquisitionDuration = 459.6679992675781\n",
    "ds.DiffusionBValue = 0.0\n",
    "ds.DiffusionGradientOrientation = [0.0, 0.0, 0.0]\n",
    "ds.StudyInstanceUID = '1.2.40.0.13.1.333311361771566580913219583914625766216'\n",
    "ds.SeriesInstanceUID = '1.2.40.0.13.1.286595144572817015845933344548631223145'\n",
    "ds.StudyID = '513842.201207030'\n",
    "ds.SeriesNumber = \"1006\"\n",
    "ds.AcquisitionNumber = \"10\"\n",
    "ds.InstanceNumber = \"319\"\n",
    "ds.ImagePositionPatient = ['-56.040032677094', '-189.81796011867', '225.026188065538']\n",
    "ds.ImageOrientationPatient = ['0.51319164037704', '0.85772150754928', '-0.0307911429554', '-0.0599991045892', '6.4554493292E-05', '-0.9981984496116']\n",
    "ds.FrameOfReferenceUID = '1.2.40.0.13.1.168070265634523572089252568290704983898'\n",
    "ds.TemporalPositionIdentifier = \"1\"\n",
    "ds.NumberOfTemporalPositions = \"1\"\n",
    "ds.PositionReferenceIndicator = ''\n",
    "ds.SliceLocation = \"38.9999961150011\"\n",
    "ds.SamplesPerPixel = 1\n",
    "ds.PhotometricInterpretation = 'MONOCHROME2'\n",
    "ds.Rows = 192\n",
    "ds.Columns = 192\n",
    "ds.PixelSpacing = ['1.97916662693023', '1.97916662693023']\n",
    "ds.BitsAllocated = 16\n",
    "ds.BitsStored = 12\n",
    "ds.HighBit = 11\n",
    "ds.PixelRepresentation = 0\n",
    "ds.WindowCenter = \"213.04\"\n",
    "ds.WindowWidth = \"370.49\"\n",
    "ds.LossyImageCompression = '00'\n",
    "ds.RequestingPhysician = '*'\n",
    "ds.RequestingService = '*'\n",
    "ds.RequestedProcedureDescription = 'CE-MRA Aorta thorakal'\n",
    "ds.PerformedStationAETitle = 'ACHIEVA3'\n",
    "ds.PerformedProcedureStepStartDate = '20120821'\n",
    "ds.PerformedProcedureStepStartTime = '173207'\n",
    "ds.PerformedProcedureStepEndDate = '20120821'\n",
    "ds.PerformedProcedureStepEndTime = '173207'\n",
    "ds.PerformedProcedureStepID = '398712726'\n",
    "ds.PerformedProcedureStepDescription = 'CE-MRA Aorta thorakal'\n",
    "\n",
    "# Performed Protocol Code Sequence\n",
    "performed_protocol_code_sequence = Sequence()\n",
    "ds.PerformedProtocolCodeSequence = performed_protocol_code_sequence\n",
    "\n",
    "# Performed Protocol Code Sequence: Performed Protocol Code 1\n",
    "performed_protocol_code1 = Dataset()\n",
    "performed_protocol_code1.CodeValue = 'RA.MRAAOT'\n",
    "performed_protocol_code1.CodingSchemeDesignator = '99ORBIS'\n",
    "performed_protocol_code1.CodeMeaning = 'CE-MRA Aorta thorakal'\n",
    "performed_protocol_code1.ContextGroupExtensionFlag = 'N'\n",
    "performed_protocol_code_sequence.append(performed_protocol_code1)\n",
    "\n",
    "\n",
    "# Film Consumption Sequence\n",
    "film_consumption_sequence = Sequence()\n",
    "ds.FilmConsumptionSequence = film_consumption_sequence\n",
    "\n",
    "ds.RequestedProcedureID = '513842.201207030'\n",
    "\n",
    "# Real World Value Mapping Sequence\n",
    "real_world_value_mapping_sequence = Sequence()\n",
    "ds.RealWorldValueMappingSequence = real_world_value_mapping_sequence\n",
    "\n",
    "# Real World Value Mapping Sequence: Real World Value Mapping 1\n",
    "real_world_value_mapping1 = Dataset()\n",
    "real_world_value_mapping1.RealWorldValueIntercept = 0.0\n",
    "real_world_value_mapping1.RealWorldValueSlope = 4.280830280830281\n",
    "real_world_value_mapping_sequence.append(real_world_value_mapping1)\n",
    "\n"
   ]
  },
  {
   "cell_type": "markdown",
   "metadata": {},
   "source": [
    "# Load in the actual Single Slice DICOM"
   ]
  },
  {
   "cell_type": "code",
   "execution_count": 19,
   "metadata": {},
   "outputs": [
    {
     "name": "stdout",
     "output_type": "stream",
     "text": [
      "pixel_array shape: (192, 192)\n"
     ]
    },
    {
     "data": {
      "image/png": "[encoded data removed]",
      "text/plain": [
       "<Figure size 432x288 with 1 Axes>"
      ]
     },
     "metadata": {},
     "output_type": "display_data"
    }
   ],
   "source": [
    "# This will be used in ds.PixelData\n",
    "\n",
    "dcmImg = pydicom.dcmread(r'E:\\Users\\tr17\\Documents\\Projects\\PC_Fetal_CMR\\Data\\dicom_fcmr_4d\\GTflow_Aorta\\10000000\\10000001\\10000464\\100005A3')\n",
    "pixel_array = dcmImg.pixel_array\n",
    "\n",
    "# plot\n",
    "print('pixel_array shape:', dcmImg.pixel_array.shape)\n",
    "plt.imshow(pixel_array, cmap=plt.cm.gray)\n",
    "plt.show()\n",
    "\n"
   ]
  },
  {
   "cell_type": "code",
   "execution_count": 22,
   "metadata": {},
   "outputs": [
    {
     "name": "stdout",
     "output_type": "stream",
     "text": [
      "C:\\Users\\tr17\\Documents\\CODE_Projects\\fetal_cmr_4d\\lib\\dicom\n"
     ]
    }
   ],
   "source": [
    "print(os.getcwd())"
   ]
  },
  {
   "cell_type": "markdown",
   "metadata": {},
   "source": [
    "# Finish Codify Script"
   ]
  },
  {
   "cell_type": "code",
   "execution_count": 25,
   "metadata": {},
   "outputs": [],
   "source": [
    "ds.PresentationLUTShape = 'IDENTITY'\n",
    "\n",
    "# ds.PixelData = # XXX Array of 73728 bytes excluded\n",
    "ds.PixelData = pixel_array.tobytes()\n",
    "\n",
    "ds.file_meta = file_meta\n",
    "ds.is_implicit_VR = True\n",
    "ds.is_little_endian = True\n",
    "ds.save_as(outputDir+outputFilename, write_like_original=False)"
   ]
  },
  {
   "cell_type": "markdown",
   "metadata": {},
   "source": [
    "# Now Use FCMR Data\n",
    "## Load In Nifty Data"
   ]
  },
  {
   "cell_type": "code",
   "execution_count": 29,
   "metadata": {},
   "outputs": [
    {
     "name": "stdout",
     "output_type": "stream",
     "text": [
      "Shape of cine_vol nifti: (43, 44, 52, 25)\n",
      "pixdim: [1.25, 1.25, 1.25, 0.01714744]\n",
      "Shape of c: (43, 44, 1300)\n"
     ]
    },
    {
     "data": {
      "image/png": "[encoded data removed]",
      "text/plain": [
       "<Figure size 432x288 with 1 Axes>"
      ]
     },
     "metadata": {},
     "output_type": "display_data"
    }
   ],
   "source": [
    "fcmrDir=r'E:\\Users\\tr17\\Documents\\Projects\\PC_Fetal_CMR\\Data\\4D_Flow_Paper\\fcmr202'\n",
    "\n",
    "cineVolDir=r'\\cine_vol'\n",
    "cineVolniiFileName=r'\\cine_vol.nii.gz'\n",
    "cineVol_nii = nib.load(fcmrDir+cineVolDir+cineVolniiFileName)\n",
    "cineVol_img = cineVol_nii.get_fdata()\n",
    "print(\"Shape of cine_vol nifti:\", cineVol_img.shape)\n",
    "\n",
    "nX = cineVol_img.shape[0]\n",
    "nY = cineVol_img.shape[1]\n",
    "nZ = cineVol_img.shape[2]\n",
    "nF = cineVol_img.shape[3]\n",
    "\n",
    "dimX = cineVol_nii.header['pixdim'][1]\n",
    "dimY = cineVol_nii.header['pixdim'][2]\n",
    "dimZ = cineVol_nii.header['pixdim'][3]\n",
    "dimF = cineVol_nii.header['pixdim'][4]\n",
    "print(\"pixdim:\", [dimX, dimY, dimZ, dimF])\n",
    "\n",
    "c  = np.reshape(cineVol_img, [nX, nY, nZ*nF])\n",
    "c[c==-1] = 0 # set background pixels = 0 (-1 in SVRTK)\n",
    "c = c.astype(\"uint16\") # convert to same datatype as DICOM\n",
    "print(\"Shape of c:\", c.shape)\n",
    "\n",
    "# Single slice of cine_vol\n",
    "c_single_slice = c[:,:,659]\n",
    "plt.imshow(c_single_slice, cmap=plt.cm.gray)\n",
    "plt.show()"
   ]
  },
  {
   "cell_type": "markdown",
   "metadata": {},
   "source": [
    "# Overwrite DICOM with FCMR data"
   ]
  },
  {
   "cell_type": "code",
   "execution_count": 32,
   "metadata": {},
   "outputs": [],
   "source": [
    "# Code below equivalent to final parts of Codify script\n",
    "\n",
    "ds.PresentationLUTShape = 'IDENTITY'\n",
    "\n",
    "# ds.PixelData = # XXX Array of 73728 bytes excluded\n",
    "ds.Rows = c.shape[0]\n",
    "ds.Columns = c.shape[1]\n",
    "ds.PixelData = c_single_slice.tobytes()\n",
    "\n",
    "ds.file_meta = file_meta\n",
    "ds.is_implicit_VR = True\n",
    "ds.is_little_endian = True\n",
    "ds.save_as(outputDir+outputFilename, write_like_original=False)"
   ]
  }
 ],
 "metadata": {
  "kernelspec": {
   "display_name": "Python 3",
   "language": "python",
   "name": "python3"
  },
  "language_info": {
   "codemirror_mode": {
    "name": "ipython",
    "version": 3
   },
   "file_extension": ".py",
   "mimetype": "text/x-python",
   "name": "python",
   "nbconvert_exporter": "python",
   "pygments_lexer": "ipython3",
   "version": "3.6.5"
  }
 },
 "nbformat": 4,
 "nbformat_minor": 2
}
