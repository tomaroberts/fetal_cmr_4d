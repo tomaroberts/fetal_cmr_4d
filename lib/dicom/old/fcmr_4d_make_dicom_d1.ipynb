{
 "cells": [
  {
   "cell_type": "code",
   "execution_count": 1,
   "metadata": {},
   "outputs": [
    {
     "name": "stderr",
     "output_type": "stream",
     "text": [
      "C:\\Users\\tr17\\AppData\\Local\\Continuum\\anaconda3\\lib\\site-packages\\h5py\\__init__.py:36: FutureWarning: Conversion of the second argument of issubdtype from `float` to `np.floating` is deprecated. In future, it will be treated as `np.float64 == np.dtype(float).type`.\n",
      "  from ._conv import register_converters as _register_converters\n"
     ]
    }
   ],
   "source": [
    "import numpy as np\n",
    "import nibabel as nib\n",
    "import matplotlib\n",
    "import matplotlib.pyplot as plt\n",
    "\n",
    "from __future__ import unicode_literals  # Only for python2.7 and save_as unicode filename\n",
    "import pydicom\n",
    "from pydicom.dataset import Dataset\n",
    "from pydicom.sequence import Sequence"
   ]
  },
  {
   "cell_type": "code",
   "execution_count": 29,
   "metadata": {},
   "outputs": [
    {
     "name": "stdout",
     "output_type": "stream",
     "text": [
      "(43, 44, 52, 25)\n",
      "Shape of c: (43, 44, 1300)\n",
      "Original DICOM datatype: uint16\n",
      "Original Nifti datatype: float64\n",
      "Converted Nifti datatype: uint16\n"
     ]
    }
   ],
   "source": [
    "fcmrDir=r'E:\\Users\\tr17\\Documents\\Projects\\PC_Fetal_CMR\\Data\\4D_Flow_Paper\\fcmr202'\n",
    "\n",
    "cineVolDir=r'\\cine_vol'\n",
    "cineVolniiFileName=r'\\cine_vol.nii.gz'\n",
    "cineVol_nii = nib.load(fcmrDir+cineVolDir+cineVolniiFileName)\n",
    "cineVol_img = cineVol_nii.get_fdata()\n",
    "\n",
    "print(cineVol_img.shape)\n",
    "\n",
    "nX = cineVol_img.shape[0]\n",
    "nY = cineVol_img.shape[1]\n",
    "nZ = cineVol_img.shape[2]\n",
    "nF = cineVol_img.shape[3]\n",
    "\n",
    "dimX = cineVol_nii.header['pixdim'][1]\n",
    "dimY = cineVol_nii.header['pixdim'][2]\n",
    "dimZ = cineVol_nii.header['pixdim'][3]\n",
    "dimF = cineVol_nii.header['pixdim'][4]\n",
    "\n",
    "c  = np.reshape(cineVol_img, [nX, nY, nZ*nF])\n",
    "print(\"Shape of c:\", c.shape)\n",
    "\n",
    "print(\"Original DICOM datatype:\", \"uint16\")\n",
    "print(\"Original Nifti datatype:\", c.dtype)\n",
    "\n",
    "c = c.astype(\"uint16\")\n",
    "\n",
    "print(\"Converted Nifti datatype:\", c.dtype)\n",
    "\n",
    "# cToWrite = c[:,:,650]\n",
    "# cToWrite[cToWrite==-1] = 0"
   ]
  },
  {
   "cell_type": "markdown",
   "metadata": {},
   "source": [
    "# z Locations"
   ]
  },
  {
   "cell_type": "code",
   "execution_count": 90,
   "metadata": {},
   "outputs": [
    {
     "name": "stdout",
     "output_type": "stream",
     "text": [
      "0 63.75 52\n"
     ]
    },
    {
     "data": {
      "image/png": "[encoded data removed]",
      "text/plain": [
       "<Figure size 432x288 with 1 Axes>"
      ]
     },
     "metadata": {},
     "output_type": "display_data"
    }
   ],
   "source": [
    "zLocFirst = 0 # TODO: incorporate nonzero starting point, i.e.: cineVol_nii.affine[2,3]\n",
    "zLocLast = (dimZ * nZ) - dimZ\n",
    "zLoc = np.linspace(zLocFirst, zLocLast, num=nZ)\n",
    "\n",
    "zLocCurrent = np.zeros(nZ*nF)\n",
    "for n in range(nZ*nF):\n",
    "    zLocCurrent[n] = np.floor(n/nF)\n",
    "\n",
    "print(zLocFirst, zLocLast, len(zLoc))\n",
    "plt.plot(zLocCurrent)\n",
    "plt.show()"
   ]
  },
  {
   "cell_type": "markdown",
   "metadata": {},
   "source": [
    "# Definitions"
   ]
  },
  {
   "cell_type": "code",
   "execution_count": 3,
   "metadata": {},
   "outputs": [],
   "source": [
    "series_unique_uid = pydicom.uid.generate_uid() # UID for dataset\n",
    "VERSION = 'v1.0.0'"
   ]
  },
  {
   "cell_type": "markdown",
   "metadata": {},
   "source": [
    "# File Meta"
   ]
  },
  {
   "cell_type": "code",
   "execution_count": 4,
   "metadata": {},
   "outputs": [],
   "source": [
    "# File meta info data elements\n",
    "file_meta = Dataset()\n",
    "file_meta.FileMetaInformationGroupLength = 196                      # 210?\n",
    "file_meta.FileMetaInformationVersion = b'\\x00\\x01'                  # transfer from kt8 dicom?\n",
    "file_meta.MediaStorageSOPClassUID = '1.2.840.10008.5.1.4.1.1.4'     # xxx.7 = Secondary Capture Image Storage / xxx.4 = MR Image Storage\n",
    "file_meta.MediaStorageSOPInstanceUID = series_unique_uid\n",
    "file_meta.TransferSyntaxUID = '1.2.840.10008.1.2'                   # transfer from kt8 dicom?\n",
    "file_meta.ImplementationClassUID = '1.2.276.0.7230010.3.0.3.6.1'    # transfer from kt8 dicom?\n",
    "file_meta.ImplementationVersionName = 'dicomserver ' + VERSION"
   ]
  },
  {
   "cell_type": "markdown",
   "metadata": {},
   "source": [
    "# Main Data"
   ]
  },
  {
   "cell_type": "code",
   "execution_count": 5,
   "metadata": {},
   "outputs": [],
   "source": [
    "# SERIES REQUIRED FIELDS\n",
    "\n",
    "ds = Dataset()\n",
    "ds.SOPClassUID = '1.2.840.10008.5.1.4.1.1.4' # xxx.7 = Secondary Capture Image Storage / xxx.4 = MR Image Storage\n",
    "ds.SeriesInstanceUID = series_unique_uid\n",
    "ds.SeriesNumber = 100 # update\n",
    "ds.BitsAllocated = 16"
   ]
  },
  {
   "cell_type": "code",
   "execution_count": null,
   "metadata": {},
   "outputs": [],
   "source": [
    "# FRAME-WISE REQUIRED FIELDS\n",
    "\n",
    "for n in range(nZ*nF)\n",
    "    ds.SOPInstanceUID = pydicom.uid.generate_uid() # UID for individual slices"
   ]
  },
  {
   "cell_type": "code",
   "execution_count": 6,
   "metadata": {},
   "outputs": [],
   "source": [
    "# Main data elements\n",
    "# ds.SpecificCharacterSet = 'ISO_IR 100'\n",
    "# ds.ImageType = ['ORIGINAL', 'PRIMARY', 'M_FFE', 'M', 'FFE']\n",
    "# ds.InstanceCreationDate = '20120821'\n",
    "# ds.InstanceCreationTime = '221700'\n",
    "# ds.InstanceCreatorUID = '1.2.40.0.13.1.203399489339977079628124438700844270739'\n",
    "\n",
    "# ds.SOPInstanceUID = '1.2.40.0.13.1.238698975124950281685715042764914485226' # below\n",
    "# ds.StudyDate = '20120821'\n",
    "# ds.SeriesDate = '20120821'\n",
    "# ds.AcquisitionDate = '20120821'\n",
    "# ds.ContentDate = '20120821'\n",
    "# ds.StudyTime = '173207'\n",
    "# ds.SeriesTime = '182511.32000'\n",
    "# ds.AcquisitionTime = '182511.32'\n",
    "# ds.ContentTime = '182511.32'\n",
    "# ds.AccessionNumber = ''\n",
    "# ds.Modality = 'MR'\n",
    "# ds.Manufacturer = 'Philips Medical Systems'\n",
    "# ds.CodeValue = ''\n",
    "# ds.CodingSchemeDesignator = 'DCM'\n",
    "# ds.CodeMeaning = ''\n",
    "\n",
    "# ds.StudyInstanceUID = '1.2.40.0.13.1.333311361771566580913219583914625766216'\n",
    "# ds.SeriesInstanceUID = '1.2.40.0.13.1.286595144572817015845933344548631223145'\n",
    "# ds.StudyID = '513842.201207030'\n",
    "# ds.SeriesNumber = \"1006\"\n",
    "# ds.AcquisitionNumber = \"10\"\n",
    "# ds.InstanceNumber = \"329\"\n",
    "# ds.ImagePositionPatient = ['-58.266084007661', '-188.48125967922', '225.160076310167']\n",
    "# ds.ImageOrientationPatient = ['0.51319164037704', '0.85772150754928', '-0.0307911429554', '-0.0599991045892', '6.4554493292E-05', '-0.9981984496116']\n",
    "# ds.FrameOfReferenceUID = '1.2.40.0.13.1.168070265634523572089252568290704983898'\n",
    "# ds.TemporalPositionIdentifier = \"1\"\n",
    "# ds.NumberOfTemporalPositions = \"1\"\n",
    "# ds.PositionReferenceIndicator = ''\n",
    "# ds.SliceLocation = \"41.5999958560011\"\n",
    "# ds.SamplesPerPixel = 1\n",
    "# ds.PhotometricInterpretation = 'MONOCHROME2'\n",
    "# ds.Rows = 192\n",
    "# ds.Columns = 192\n",
    "# ds.PixelSpacing = ['1.97916662693023', '1.97916662693023']\n"
   ]
  },
  {
   "cell_type": "code",
   "execution_count": 7,
   "metadata": {},
   "outputs": [],
   "source": [
    "# ds.Format = 'DICOM'\n",
    "# ds.FormatVersion = 3\n",
    "# ds.BitDepth = 16 # assuming uint16 images\n",
    "\n",
    "# ds.ConversionType = 'WSD' # WSD = Workstation\n",
    "# ds.TimeofSecondaryCapture = ''\n",
    "# ds.SecondaryCaptureDeviceManufacturer = 'PIH Research 4D FCMR Reconstruction'\n",
    "# ds.SecondaryCaptureDeviceManufacturerModelName = '1.0.0'\n",
    "# ds.SecondaryCaptureDeviceSoftwareVersion = '1.0.0'\n"
   ]
  },
  {
   "cell_type": "markdown",
   "metadata": {},
   "source": [
    "# Dicom Creation"
   ]
  },
  {
   "cell_type": "code",
   "execution_count": 8,
   "metadata": {},
   "outputs": [
    {
     "name": "stdout",
     "output_type": "stream",
     "text": [
      "Finished.\n"
     ]
    }
   ],
   "source": [
    "\n",
    "# cToWrite = c[:,:,n]\n",
    "\n",
    "# ds.PresentationLUTShape = 'IDENTITY'\n",
    "ds.PixelData = cToWrite.tobytes()\n",
    "ds.Rows = cToWrite.shape[0]\n",
    "ds.Columns = cToWrite.shape[1]\n",
    "\n",
    "a0 = cineVol_nii.affine[0,3]\n",
    "a1 = cineVol_nii.affine[1,3]\n",
    "a2 = cineVol_nii.affine[2,3]\n",
    "\n",
    "ds.ImagePositionPatient = [str(a0),str(a1),str(a2)]\n",
    "ds.ImageOrientationPatient = ['0','0','0','0','0','0']\n",
    "ds.PixelSpacing = ['1.25','1.25']\n",
    "ds.SpacingBetweenSlices = '1.25'\n",
    "\n",
    "\n",
    "ds.file_meta = file_meta\n",
    "ds.is_implicit_VR = True\n",
    "ds.is_little_endian = True\n",
    "ds.save_as(r'E:\\Users\\tr17\\Documents\\Projects\\PC_Fetal_CMR\\Data\\dicom_fcmr_4d\\dcm\\testCodifyTom_mag2.dcm', write_like_original=False)\n",
    "\n",
    "print('Finished.')"
   ]
  }
 ],
 "metadata": {
  "kernelspec": {
   "display_name": "Python 3",
   "language": "python",
   "name": "python3"
  },
  "language_info": {
   "codemirror_mode": {
    "name": "ipython",
    "version": 3
   },
   "file_extension": ".py",
   "mimetype": "text/x-python",
   "name": "python",
   "nbconvert_exporter": "python",
   "pygments_lexer": "ipython3",
   "version": "3.6.5"
  }
 },
 "nbformat": 4,
 "nbformat_minor": 2
}
