{
 "cells": [
  {
   "cell_type": "code",
   "execution_count": 1,
   "metadata": {
    "colab": {},
    "colab_type": "code",
    "id": "nKkehZ_TC396"
   },
   "outputs": [
    {
     "name": "stderr",
     "output_type": "stream",
     "text": [
      "C:\\Users\\tr17\\AppData\\Local\\Continuum\\anaconda3\\lib\\site-packages\\h5py\\__init__.py:36: FutureWarning: Conversion of the second argument of issubdtype from `float` to `np.floating` is deprecated. In future, it will be treated as `np.float64 == np.dtype(float).type`.\n",
      "  from ._conv import register_converters as _register_converters\n"
     ]
    }
   ],
   "source": [
    "import os\n",
    "import nibabel as nib\n",
    "import matplotlib.pyplot as plt\n",
    "import numpy as np\n",
    "\n",
    "dataDir = r'C:\\Users\\tr17\\Dropbox\\fcmr_seg'\n",
    "imDir   = dataDir+r'\\images'\n",
    "segsDir = dataDir+r'\\segs'\n",
    "\n",
    "os.chdir(dataDir)"
   ]
  },
  {
   "cell_type": "code",
   "execution_count": 2,
   "metadata": {
    "colab": {},
    "colab_type": "code",
    "id": "NmvUtttQL5W7"
   },
   "outputs": [],
   "source": [
    "def cropSliceMaskCentroid(img_slice, mask_slice):\n",
    "  \n",
    "  \"\"\" cropSliceMaskCentroid\n",
    "  \n",
    "  input:\n",
    "  - img_slice: 2D array\n",
    "  - mask_slice: 2D binary mask corresponding to img_slice\n",
    "\n",
    "  output:\n",
    "  - img_slice_crop: cropped version of img_slice\n",
    "  - mask_slice_crop: cropped version of mask_slice\n",
    "\n",
    "  note:\n",
    "  currently hard-coded to return 64x64 images\n",
    "\n",
    "  \"\"\"\n",
    "  \n",
    "  # Crop image using centrepoint of image if no mask\n",
    "  if not np.any(mask_slice):\n",
    "    nX = mask_slice.shape[0]; nY = mask_slice.shape[1]\n",
    "    img_centre = ( int(round(nX/2)), int(round(nY/2)) )\n",
    "    dimX_crop = [img_centre[0]-32, img_centre[0]+32]\n",
    "    dimY_crop = [img_centre[1]-32, img_centre[1]+32]\n",
    "    img_slice_crop = img_slice[dimX_crop[0]:dimX_crop[1],dimY_crop[0]:dimY_crop[1]]\n",
    "    mask_slice_crop = mask_slice[dimX_crop[0]:dimX_crop[1],dimY_crop[0]:dimY_crop[1]]\n",
    "\n",
    "    return img_slice_crop, mask_slice_crop \n",
    "\n",
    "  # Crop image using centre of mask\n",
    "  idxMask = np.where(mask_slice)\n",
    "\n",
    "  iMin = min(idxMask[0])\n",
    "  iMax = max(idxMask[0])\n",
    "  jMin = min(idxMask[1])\n",
    "  jMax = max(idxMask[1])\n",
    "  midPoint = ( iMin + int(round((iMax-iMin)/2)), jMin + int(round((jMax-jMin)/2)) )\n",
    "\n",
    "  # print(\"i coords ...\", iMin, \":\", iMax)\n",
    "  # print(\"j coords ...\", jMin, \":\", jMax)\n",
    "  # print(\"midpoint ...\", midPoint)\n",
    "\n",
    "  iCmin = midPoint[0] - 32\n",
    "  iCmax = midPoint[0] + 32\n",
    "  jCmin = midPoint[1] - 32\n",
    "  jCmax = midPoint[1] + 32\n",
    "  downsampleCoords = [ range(iCmin,iCmax), range(jCmin,jCmax) ]\n",
    "\n",
    "  # print(\"i downsample coords ...\", iCmin, \":\", iCmax)\n",
    "  # print(\"j downsample coords ...\", jCmin, \":\", jCmax)\n",
    "\n",
    "  img_slice_crop  = img_slice[iCmin:iCmax,jCmin:jCmax]\n",
    "  mask_slice_crop = mask_slice[iCmin:iCmax,jCmin:jCmax]\n",
    "\n",
    "  # plt.imshow(img_slice[iCmin:iCmax,jCmin:jCmax] \\\n",
    "  #           + mask_slice[iCmin:iCmax,jCmin:jCmax]*0.25, cmap='gray')\n",
    "  \n",
    "  return img_slice_crop, mask_slice_crop"
   ]
  },
  {
   "cell_type": "markdown",
   "metadata": {
    "colab_type": "text",
    "id": "T9isCmhkIEbp"
   },
   "source": [
    "# Loop through fcmr cases"
   ]
  },
  {
   "cell_type": "code",
   "execution_count": 3,
   "metadata": {
    "colab": {},
    "colab_type": "code",
    "id": "tWWzZg_LJcU1"
   },
   "outputs": [
    {
     "name": "stdout",
     "output_type": "stream",
     "text": [
      "Current fcmr: 189\n",
      "Current fcmr: 191\n",
      "Current fcmr: 194\n",
      "Current fcmr: 197\n",
      "Current fcmr: 201\n",
      "Current fcmr: 206\n",
      "Current fcmr: 213\n",
      "Current fcmr: 214\n",
      "Current fcmr: 230\n",
      "Current fcmr: 240\n",
      "Current fcmr: 242\n",
      "Current fcmr: 246\n",
      "Current fcmr: 250\n",
      "Current fcmr: 252\n",
      "Current fcmr: 253\n",
      "Current fcmr: 254\n",
      "Current fcmr: 255\n",
      "Current fcmr: 256\n",
      "Current fcmr: 266\n",
      "Current fcmr: 267\n",
      "Current fcmr: 271\n",
      "Current fcmr: 273\n",
      "Current fcmr: 285\n",
      "Current fcmr: 286\n",
      "Current fcmr: 287\n",
      "Current fcmr: 288\n",
      "Current fcmr: 289\n",
      "Current fcmr: 291\n",
      "Current fcmr: 293\n",
      "Current fcmr: 295\n",
      "Current fcmr: 302\n",
      "Current fcmr: 305\n",
      "Current fcmr: 308\n",
      "Current fcmr: 311\n",
      "Current fcmr: 316\n",
      "Current fcmr: 319\n",
      "Current fcmr: 327\n",
      "Current fcmr: 329\n",
      "Collation of image array completed ...\n",
      "Final number of images: 1642\n"
     ]
    }
   ],
   "source": [
    "fcmrNumsStr = os.listdir(imDir)\n",
    "fcmrNumsStr.sort()\n",
    "fcmrNumsStr.remove('202') # bug with fcmr202 --- mask possibly too close to edge for 64x64 crop?\n",
    "fcmrNums = list(map(int, fcmrNumsStr))\n",
    "# print(fcmrNums)\n",
    "\n",
    "nX = 64; nY = 64;\n",
    "IMG_ARRAY = np.empty((nX,nY,0))\n",
    "SEG_ARRAY = np.empty((nX,nY,0))\n",
    "fcmrNum_ARRAY = []\n",
    "iStack_ARRAY  = []\n",
    "iSlice_ARRAY  = []\n",
    "isSeg_ARRAY   = []\n",
    "\n",
    "# fcmr Loop\n",
    "for f in fcmrNumsStr: \n",
    "    print(\"Current fcmr:\", f)\n",
    "    imFileList   = os.listdir(imDir + r'/' + f); imFileList.sort()\n",
    "    segsFileList = os.listdir(segsDir + r'/' + f); segsFileList.sort();\n",
    "\n",
    "    # Load Stack\n",
    "    for iStk, (imFile, segsFile) in enumerate(zip(imFileList, segsFileList)):\n",
    "      # print(iStk); print(imFile); print(segsFile)\n",
    "\n",
    "      img = nib.load(imDir + r'/' + f + r'/' + imFile)\n",
    "      seg = nib.load(segsDir + r'/' + f + r'/' + segsFile)\n",
    "\n",
    "      img = img.get_fdata()\n",
    "      seg = seg.get_fdata()\n",
    "      numSlices = img.shape[2]\n",
    "\n",
    "      # TODO: check im.shape == seg.shape\n",
    "\n",
    "      # Crop Slices within Stack\n",
    "      for iSlice in range(numSlices):\n",
    "        img_crop, seg_crop = cropSliceMaskCentroid(img[:,:,iSlice], seg[:,:,iSlice])\n",
    "        IMG_ARRAY = np.dstack((IMG_ARRAY, img_crop))\n",
    "        SEG_ARRAY = np.dstack((SEG_ARRAY, seg_crop))\n",
    "        \n",
    "        # Track Data Locations\n",
    "        fcmrNum_ARRAY.append(f)\n",
    "        iStack_ARRAY.append(segsFile)\n",
    "        iSlice_ARRAY.append(iSlice)\n",
    "        \n",
    "        # Track if Slice Contains Segmentation\n",
    "        if np.any(seg_crop):\n",
    "          isSeg_ARRAY.append(1)\n",
    "        elif not np.any(seg_crop):\n",
    "          isSeg_ARRAY.append(0)\n",
    "\n",
    "# Permute Data Order \n",
    "IMG_ARRAY = np.transpose(IMG_ARRAY,[2,0,1])\n",
    "SEG_ARRAY = np.transpose(SEG_ARRAY,[2,0,1])\n",
    "\n",
    "# Normalise images\n",
    "IMG_ARRAY = IMG_ARRAY.astype(np.float32)/IMG_ARRAY.max()\n",
    "\n",
    "print(\"Collation of image array completed ...\")\n",
    "print(\"Final number of images:\", IMG_ARRAY.shape[0])"
   ]
  },
  {
   "cell_type": "markdown",
   "metadata": {
    "colab_type": "text",
    "id": "nGyqkd3DWIKS"
   },
   "source": [
    "# Check Data"
   ]
  },
  {
   "cell_type": "code",
   "execution_count": 4,
   "metadata": {
    "colab": {
     "base_uri": "https://localhost:8080/",
     "height": 285
    },
    "colab_type": "code",
    "id": "XpjcNWU5TvHr",
    "outputId": "ba06a6ce-cb93-4c22-91e9-d370d50cf84d"
   },
   "outputs": [
    {
     "data": {
      "text/plain": [
       "<matplotlib.image.AxesImage at 0x1c9bc9d9ba8>"
      ]
     },
     "execution_count": 4,
     "metadata": {},
     "output_type": "execute_result"
    },
    {
     "data": {
      "image/png": "[encoded data removed]",
      "text/plain": [
       "<Figure size 432x288 with 1 Axes>"
      ]
     },
     "metadata": {},
     "output_type": "display_data"
    }
   ],
   "source": [
    "iImg = 900\n",
    "plt.imshow(IMG_ARRAY[iImg] + SEG_ARRAY[iImg]*0.25, cmap='gray')"
   ]
  },
  {
   "cell_type": "markdown",
   "metadata": {
    "colab_type": "text",
    "id": "X91OprGYWLho"
   },
   "source": [
    "# Save Data"
   ]
  },
  {
   "cell_type": "code",
   "execution_count": 5,
   "metadata": {
    "colab": {},
    "colab_type": "code",
    "id": "EqHC8GWXWDBY"
   },
   "outputs": [
    {
     "name": "stdout",
     "output_type": "stream",
     "text": [
      "Data saved ...\n"
     ]
    }
   ],
   "source": [
    "os.chdir(dataDir)\n",
    "np.savez(\"fcmr_data.npz\", \\\n",
    "         IMG_ARRAY=IMG_ARRAY, SEG_ARRAY=SEG_ARRAY, \\\n",
    "         fcmrNum_ARRAY=fcmrNum_ARRAY, \\\n",
    "         iStack_ARRAY=iStack_ARRAY, \\\n",
    "         iSlice_ARRAY=iSlice_ARRAY, \\\n",
    "         isSeg_ARRAY=isSeg_ARRAY)\n",
    "\n",
    "print(\"Data saved ...\")"
   ]
  },
  {
   "cell_type": "code",
   "execution_count": 6,
   "metadata": {},
   "outputs": [
    {
     "name": "stdout",
     "output_type": "stream",
     "text": [
      "['IMG_ARRAY', 'SEG_ARRAY', 'fcmrNum_ARRAY', 'iStack_ARRAY', 'iSlice_ARRAY', 'isSeg_ARRAY']\n"
     ]
    }
   ],
   "source": [
    "tom = np.load('fcmr_data.npz')\n",
    "print(tom.files)"
   ]
  }
 ],
 "metadata": {
  "colab": {
   "collapsed_sections": [],
   "name": "fcmr_seg_preprocess",
   "provenance": [],
   "toc_visible": true
  },
  "kernelspec": {
   "display_name": "Python 3",
   "language": "python",
   "name": "python3"
  },
  "language_info": {
   "codemirror_mode": {
    "name": "ipython",
    "version": 3
   },
   "file_extension": ".py",
   "mimetype": "text/x-python",
   "name": "python",
   "nbconvert_exporter": "python",
   "pygments_lexer": "ipython3",
   "version": "3.6.5"
  }
 },
 "nbformat": 4,
 "nbformat_minor": 1
}
