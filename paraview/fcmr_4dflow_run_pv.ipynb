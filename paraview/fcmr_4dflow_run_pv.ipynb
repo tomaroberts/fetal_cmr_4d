{
 "cells": [
  {
   "cell_type": "code",
   "execution_count": 6,
   "metadata": {},
   "outputs": [
    {
     "output_type": "stream",
     "name": "stdout",
     "text": [
      "Running 4D Flow cine Paraview script ...\n",
      "Done ...\n"
     ]
    }
   ],
   "source": [
    "print(\"Running 4D Flow cine Paraview script ...\")\n",
    "\n",
    "pvpypath='C:\\\\Program Files\\\\ParaView 5.4.1-Qt5-OpenGL2-Windows-64bit\\\\bin\\\\pvpython.exe'\n",
    "\n",
    "import subprocess\n",
    "subprocess.call([pvpypath, 'C:\\\\Users\\\\tr17\\\\Documents\\\\CODE_Projects\\\\fetal_cmr_4dflow\\paraview\\\\fcmr_4dflow_make_vector_vol.py'])\n",
    "\n",
    "print(\"Done ...\")"
   ]
  },
  {
   "cell_type": "code",
   "execution_count": 3,
   "metadata": {},
   "outputs": [],
   "source": [
    "### TESTING\n",
    "# - copy path information below, then run following cell\n",
    "\n",
    "#### path/variable admin\n",
    "fcmrNum = 375\n",
    "foldExt = ''\n",
    "pvStateExt = ''\n",
    "velDir = '\\\\vel_vol_4d'\n",
    "\n",
    "# pvFold = '\\\\paraview' + '\\\\'\n",
    "pvFold = '\\\\paraview_polyCorr' + '\\\\'\n",
    "# pvFold = '\\\\paraview_polyCorr_blood_pool_cleaned' + '\\\\'\n",
    "# pvFold = '\\\\paraview_polyCorr_aorta_v2_LV_RV_LOT_ROT_LA_RA_IVC_SVC_PA_DA_v2' + '\\\\'\n",
    "\n",
    "fcmrDir = 'I:\\\\King\\'s College London\\\\Perinatal CMR - Documents\\\\General\\\\Data\\\\fcmr_4d_clinical\\\\c_fcmr'\n",
    "# fcmrDir = 'E:\\\\Users\\\\tr17\\\\Documents\\\\Projects\\\\PC_Fetal_CMR\\\\Data\\\\4D_Flow_Paper\\\\fcmr'\n",
    "\n",
    "path = fcmrDir + str(fcmrNum) + '' + foldExt + velDir + pvFold\n",
    "\n",
    "# pvStateFilename = 'fcmr' + str(fcmrNum) + '_' + pvStateExt + 'paraview.pvsm'\n",
    "pvStateFilename = 'c_fcmr' + str(fcmrNum) + '_' + pvStateExt + 'paraview.pvsm'"
   ]
  },
  {
   "cell_type": "code",
   "execution_count": 5,
   "metadata": {},
   "outputs": [
    {
     "output_type": "stream",
     "name": "stdout",
     "text": [
      "\\paraview_polyCorr\\\nI:\\King's College London\\Perinatal CMR - Documents\\General\\Data\\fcmr_4d_clinical\\c_fcmr375\\vel_vol_4d\\paraview_polyCorr\\\nc_fcmr375_paraview.pvsm\nI:\\King's College London\\Perinatal CMR - Documents\\General\\Data\\fcmr_4d_clinical\\c_fcmr375\\vel_vol_4d\\paraview_polyCorr\\c_fcmr375_paraview.pvsm\n"
     ]
    }
   ],
   "source": [
    "print(pvFold)\n",
    "\n",
    "print(path)\n",
    "print(pvStateFilename)\n",
    "\n",
    "print(fcmrDir + str(fcmrNum) + foldExt + velDir + pvFold + pvStateFilename)"
   ]
  }
 ],
 "metadata": {
  "kernelspec": {
   "display_name": "Python 3",
   "language": "python",
   "name": "python3"
  },
  "language_info": {
   "codemirror_mode": {
    "name": "ipython",
    "version": 3
   },
   "file_extension": ".py",
   "mimetype": "text/x-python",
   "name": "python",
   "nbconvert_exporter": "python",
   "pygments_lexer": "ipython3",
   "version": "3.6.5-final"
  }
 },
 "nbformat": 4,
 "nbformat_minor": 2
}