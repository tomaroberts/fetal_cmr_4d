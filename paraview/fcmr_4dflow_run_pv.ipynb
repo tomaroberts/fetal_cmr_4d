{
 "cells": [
  {
   "cell_type": "code",
   "execution_count": 13,
   "metadata": {},
   "outputs": [
    {
     "name": "stdout",
     "output_type": "stream",
     "text": [
      "Running 4D Flow cine Paraview script ...\n",
      "Done ...\n"
     ]
    }
   ],
   "source": [
    "print(\"Running 4D Flow cine Paraview script ...\")\n",
    "\n",
    "pvpypath='C:\\\\Program Files\\\\ParaView 5.4.1-Qt5-OpenGL2-Windows-64bit\\\\bin\\\\pvpython.exe'\n",
    "\n",
    "import subprocess\n",
    "subprocess.call([pvpypath, 'C:\\\\Users\\\\tr17\\\\Documents\\\\CODE_Projects\\\\fetal_cmr_4d\\\\paraview\\\\fcmr_4dflow_make_vector_vol.py'])\n",
    "\n",
    "print(\"Done ...\")"
   ]
  },
  {
   "cell_type": "code",
   "execution_count": null,
   "metadata": {},
   "outputs": [],
   "source": []
  },
  {
   "cell_type": "code",
   "execution_count": null,
   "metadata": {},
   "outputs": [],
   "source": []
  },
  {
   "cell_type": "code",
   "execution_count": 4,
   "metadata": {},
   "outputs": [],
   "source": [
    "### TESTING\n",
    "# - copy path information below, then run following cell\n",
    "\n",
    "fcmrNum = 372\n",
    "foldExt = ''\n",
    "pvStateExt = ''\n",
    "velDir = '\\\\vel_vol_4d'\n",
    "# velDir = '\\\\vel_vol_trans_4d'\n",
    "\n",
    "# pvFold = '\\\\paraview' + '\\\\'\n",
    "pvFold = '\\\\paraview_polyCorr' + '\\\\'\n",
    "# pvFold = '\\\\paraview_polyCorr_blood_pool_cleaned' + '\\\\'\n",
    "# pvFold = '\\\\paraview_polyCorr_aorta_v2_LV_RV_LOT_ROT_LA_RA_IVC_SVC_PA_DA_v2' + '\\\\'\n",
    "\n",
    "# fcmrDir = 'I:\\\\fcmr_4d_clinical_recons\\\\c_fcmr'\n",
    "# fcmrDir = 'I:\\\\fcmr_4d_chloe_recons\\\\c_fcmr'\n",
    "# fcmrDir = 'E:\\\\Users\\\\tr17\\\\Documents\\\\Projects\\\\PC_Fetal_CMR\\\\Data\\\\Chloe_Recons\\\\fcmr'\n",
    "# fcmrDir = 'E:\\\\Users\\\\tr17\\\\Documents\\\\Projects\\\\PC_Fetal_CMR\\\\Data\\\\4D_Flow_Paper\\\\fcmr'\n",
    "fcmrDir = 'C:\\\\Users\\\\tr17\\\\Documents\\\\Projects\\\\PC_Fetal_CMR\\\\Data\\\\Sweep\\\\c_fcmr'\n",
    "path = fcmrDir + str(fcmrNum) + '_m2d' + foldExt + velDir + pvFold\n",
    "\n",
    "pvStateFilename = 'fcmr' + str(fcmrNum) + '_' + pvStateExt + 'paraview.pvsm'\n",
    "# pvStateFilename = 'c_fcmr' + str(fcmrNum) + '_' + pvStateExt + 'paraview.pvsm'\n",
    "\n",
    "filenameCine = 'cine_vol_masked_t'\n",
    "filenameVelVol = 'vel_vol_masked_VxVy-Vz_t'\n",
    "numFrames = 25"
   ]
  },
  {
   "cell_type": "code",
   "execution_count": 11,
   "metadata": {},
   "outputs": [
    {
     "name": "stdout",
     "output_type": "stream",
     "text": [
      "pvFold:\n",
      " \\paraview_polyCorr\\\n",
      "fcmrDir:\n",
      " C:\\Users\\tr17\\Documents\\Projects\\PC_Fetal_CMR\\Data\\Sweep\\c_fcmr\n",
      "path:\n",
      " C:\\Users\\tr17\\Documents\\Projects\\PC_Fetal_CMR\\Data\\Sweep\\c_fcmr372_m2d\\vel_vol_4d\\paraview_polyCorr\\\n",
      "pvStateFilename:\n",
      " fcmr372_paraview.pvsm\n",
      "C:\\Users\\tr17\\Documents\\Projects\\PC_Fetal_CMR\\Data\\Sweep\\c_fcmr372_m2d\\vel_vol_4d\\paraview_polyCorr\\\\fcmr372_paraview.pvsm\n",
      "fcmrDir + str(fcmrNum) + velDir + pvFold + pvStateFilename:\n",
      " C:\\Users\\tr17\\Documents\\Projects\\PC_Fetal_CMR\\Data\\Sweep\\c_fcmr372_m2d\\vel_vol_4d\\paraview_polyCorr\\fcmr372_paraview.pvsm\n"
     ]
    }
   ],
   "source": [
    "print('pvFold:\\n', pvFold)\n",
    "\n",
    "print('fcmrDir:\\n', fcmrDir)\n",
    "print('path:\\n', path)\n",
    "print('pvStateFilename:\\n', pvStateFilename)\n",
    "print(path + '\\\\' + pvStateFilename)\n",
    "\n",
    "print('fcmrDir + str(fcmrNum) + velDir + pvFold + pvStateFilename:\\n', fcmrDir + str(fcmrNum) + velDir + pvFold + pvStateFilename)"
   ]
  },
  {
   "cell_type": "code",
   "execution_count": 26,
   "metadata": {
    "tags": []
   },
   "outputs": [
    {
     "output_type": "stream",
     "text": [
      "\\paraview_polyCorr_blood_pool_cleaned\\\n",
      "E:\\Users\\tr17\\Documents\\Projects\\PC_Fetal_CMR\\Data\\4D_Flow_Paper\\fcmr214_hrh_fullRecon\\vel_vol_4d\\paraview_polyCorr_blood_pool_cleaned\\\n",
      "fcmr214_paraview.pvsm\n",
      "E:\\Users\\tr17\\Documents\\Projects\\PC_Fetal_CMR\\Data\\4D_Flow_Paper\\fcmr214_hrh_fullRecon\\vel_vol_4d\\paraview_polyCorr_blood_pool_cleaned\\fcmr214_paraview.pvsm\n"
     ]
    }
   ],
   "source": [
    "print('pvFold:\\n', pvFold)\n",
    "\n",
    "print('fcmrDir:\\n', fcmrDir)\n",
    "print('path:\\n', path)\n",
    "print('pvStateFilename:\\n', pvStateFilename)\n",
    "print(path + r'\\\\' + pvStateFilename)\n",
    "\n",
    "print(fcmrDir + str(fcmrNum) + foldExt + velDir + pvFold + pvStateFilename)"
   ]
  }
 ],
 "metadata": {
  "kernelspec": {
   "display_name": "Python 3",
   "language": "python",
   "name": "python3"
  },
  "language_info": {
   "codemirror_mode": {
    "name": "ipython",
    "version": 3
   },
   "file_extension": ".py",
   "mimetype": "text/x-python",
   "name": "python",
   "nbconvert_exporter": "python",
   "pygments_lexer": "ipython3",
   "version": "3.6.5"
  }
 },
 "nbformat": 4,
 "nbformat_minor": 2
}
